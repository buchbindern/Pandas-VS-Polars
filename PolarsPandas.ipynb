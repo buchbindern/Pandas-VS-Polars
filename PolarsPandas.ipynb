{
 "cells": [
  {
   "cell_type": "markdown",
   "metadata": {},
   "source": [
    "### Polars vs Pandas"
   ]
  },
  {
   "cell_type": "markdown",
   "metadata": {},
   "source": [
    "exploring the differences in performance when working with Polars and Pandas"
   ]
  },
  {
   "cell_type": "code",
   "execution_count": 1,
   "metadata": {},
   "outputs": [],
   "source": [
    "import polars as pl\n",
    "import pandas as pd\n",
    "import numpy as np\n",
    "import time\n",
    "from memory_profiler import memory_usage\n",
    "import os"
   ]
  },
  {
   "cell_type": "markdown",
   "metadata": {},
   "source": [
    "#### Data frame creation"
   ]
  },
  {
   "cell_type": "code",
   "execution_count": 2,
   "metadata": {},
   "outputs": [
    {
     "name": "stdout",
     "output_type": "stream",
     "text": [
      "Pandas DataFrame creation time: 0.0002 seconds\n",
      "Polars DataFrame creation time: 0.0399 seconds\n",
      "\n"
     ]
    }
   ],
   "source": [
    "data = np.random.randn(10000000, 3)\n",
    "\n",
    "start = time.time()\n",
    "df_pandas = pd.DataFrame(data, columns=[\"A\", \"B\", \"C\"])\n",
    "print(f\"Pandas DataFrame creation time: {time.time() - start:.4f} seconds\")\n",
    "\n",
    "start = time.time()\n",
    "df_polars = pl.DataFrame(data, schema=[\"A\", \"B\", \"C\"])\n",
    "print(f\"Polars DataFrame creation time: {time.time() - start:.4f} seconds\\n\")"
   ]
  },
  {
   "cell_type": "markdown",
   "metadata": {},
   "source": [
    "#### Filtering"
   ]
  },
  {
   "cell_type": "code",
   "execution_count": 3,
   "metadata": {},
   "outputs": [
    {
     "name": "stdout",
     "output_type": "stream",
     "text": [
      "Pandas filtering time: 0.0662 seconds\n",
      "Polars filtering time: 0.0202 seconds\n",
      "\n"
     ]
    }
   ],
   "source": [
    "# Test filtering time\n",
    "start = time.time()\n",
    "df_pandas[df_pandas[\"A\"] > 0.5]\n",
    "print(f\"Pandas filtering time: {time.time() - start:.4f} seconds\")\n",
    "\n",
    "start = time.time()\n",
    "df_polars.filter(pl.col(\"A\") > 0.5)\n",
    "print(f\"Polars filtering time: {time.time() - start:.4f} seconds\\n\")"
   ]
  },
  {
   "cell_type": "markdown",
   "metadata": {},
   "source": [
    "#### Aggregation"
   ]
  },
  {
   "cell_type": "code",
   "execution_count": 4,
   "metadata": {},
   "outputs": [
    {
     "name": "stdout",
     "output_type": "stream",
     "text": [
      "Pandas mean calculation time: 0.0239 seconds\n",
      "Polars mean calculation time: 0.0023 seconds\n",
      "\n"
     ]
    }
   ],
   "source": [
    "start = time.time()\n",
    "df_pandas[\"A\"].mean()\n",
    "print(f\"Pandas mean calculation time: {time.time() - start:.4f} seconds\")\n",
    "\n",
    "start = time.time()\n",
    "df_polars.select(pl.col(\"A\").mean())\n",
    "print(f\"Polars mean calculation time: {time.time() - start:.4f} seconds\\n\")"
   ]
  },
  {
   "cell_type": "markdown",
   "metadata": {},
   "source": [
    "#### Sorting"
   ]
  },
  {
   "cell_type": "code",
   "execution_count": 5,
   "metadata": {},
   "outputs": [
    {
     "name": "stdout",
     "output_type": "stream",
     "text": [
      "Pandas sorting time: 1.5864 seconds\n",
      "Polars sorting time: 0.3363 seconds\n",
      "\n"
     ]
    }
   ],
   "source": [
    "start = time.time()\n",
    "df_pandas.sort_values(\"A\")\n",
    "print(f\"Pandas sorting time: {time.time() - start:.4f} seconds\")\n",
    "\n",
    "start = time.time()\n",
    "df_polars.sort(\"A\")\n",
    "print(f\"Polars sorting time: {time.time() - start:.4f} seconds\\n\")"
   ]
  },
  {
   "cell_type": "markdown",
   "metadata": {},
   "source": [
    "#### Grouping + Aggregation"
   ]
  },
  {
   "cell_type": "code",
   "execution_count": 6,
   "metadata": {},
   "outputs": [
    {
     "name": "stdout",
     "output_type": "stream",
     "text": [
      "Pandas GroupBy time: 0.3843 seconds\n",
      "Polars GroupBy time: 0.0914 seconds\n"
     ]
    },
    {
     "name": "stderr",
     "output_type": "stream",
     "text": [
      "/var/folders/2m/sdkhr0n547l_ypwwkd8msbmw0000gn/T/ipykernel_61989/2121134032.py:2: FutureWarning: The default of observed=False is deprecated and will be changed to True in a future version of pandas. Pass observed=False to retain current behavior or observed=True to adopt the future default and silence this warning.\n",
      "  df_pandas.groupby(pd.cut(df_pandas[\"A\"], bins=10))[\"B\"].mean()\n"
     ]
    }
   ],
   "source": [
    "start = time.time()\n",
    "df_pandas.groupby(pd.cut(df_pandas[\"A\"], bins=10))[\"B\"].mean()\n",
    "print(f\"Pandas GroupBy time: {time.time() - start:.4f} seconds\")\n",
    "\n",
    "\n",
    "start = time.time()\n",
    "df_polars.group_by((pl.col(\"A\") / 0.1).floor()).agg(pl.col(\"B\").mean())\n",
    "print(f\"Polars GroupBy time: {time.time() - start:.4f} seconds\")"
   ]
  },
  {
   "cell_type": "markdown",
   "metadata": {},
   "source": [
    "#### Join"
   ]
  },
  {
   "cell_type": "code",
   "execution_count": 7,
   "metadata": {},
   "outputs": [
    {
     "name": "stdout",
     "output_type": "stream",
     "text": [
      "Pandas join time: 1.8236 seonds\n",
      "Polars join time: 0.3128 seconds\n",
      "\n"
     ]
    }
   ],
   "source": [
    "df1_pandas = df_pandas.copy()\n",
    "df2_pandas = df_pandas.copy()\n",
    "\n",
    "df1_polars = df_polars.clone()\n",
    "df2_polars = df_polars.clone()\n",
    "\n",
    "start = time.time()\n",
    "df1_pandas.merge(df2_pandas, on=\"A\")\n",
    "print(f\"Pandas join time: {time.time() - start:.4f} seonds\")\n",
    "\n",
    "start = time.time()\n",
    "df1_polars.join(df2_polars, on=\"A\", how=\"inner\")\n",
    "print(f\"Polars join time: {time.time() - start:.4f} seconds\\n\")"
   ]
  },
  {
   "cell_type": "markdown",
   "metadata": {},
   "source": [
    "#### Memory Usage"
   ]
  },
  {
   "cell_type": "code",
   "execution_count": 8,
   "metadata": {},
   "outputs": [
    {
     "name": "stdout",
     "output_type": "stream",
     "text": [
      "Pandas memory usage: 220.11 MB\n",
      "Polars memory usage: 227.62 MB\n",
      "\n"
     ]
    }
   ],
   "source": [
    "def test_pandas():\n",
    "    df = pd.DataFrame(np.random.randn(10_000_000, 3), columns=[\"A\", \"B\", \"C\"])\n",
    "    df[df[\"A\"] > 0.5]\n",
    "\n",
    "def test_polars():\n",
    "    df = pl.DataFrame(np.random.randn(10_000_000, 3), schema=[\"A\", \"B\", \"C\"])\n",
    "    df.filter(pl.col(\"A\") > 0.5)\n",
    "\n",
    "mem_pandas = max(memory_usage(test_pandas)) - min(memory_usage(test_pandas))\n",
    "mem_polars = max(memory_usage(test_polars)) - min(memory_usage(test_polars))\n",
    "\n",
    "print(f\"Pandas memory usage: {mem_pandas:.2f} MB\")\n",
    "print(f\"Polars memory usage: {mem_polars:.2f} MB\\n\")"
   ]
  },
  {
   "cell_type": "markdown",
   "metadata": {},
   "source": [
    "#### Multi threading"
   ]
  },
  {
   "cell_type": "markdown",
   "metadata": {},
   "source": [
    "Polars has the ability to use multi threading, while Pandas does not"
   ]
  },
  {
   "cell_type": "code",
   "execution_count": 9,
   "metadata": {},
   "outputs": [
    {
     "name": "stdout",
     "output_type": "stream",
     "text": [
      "CPU Cores Available: 8\n",
      "Polars filtering with 1 threads: 0.0176 seconds\n",
      "Polars filtering with 2 threads: 0.0118 seconds\n",
      "Polars filtering with 4 threads: 0.0114 seconds\n",
      "Polars filtering with 8 threads: 0.0106 seconds\n"
     ]
    }
   ],
   "source": [
    "print(f\"CPU Cores Available: {os.cpu_count()}\")\n",
    "\n",
    "for threads in [1, 2, 4, 8]:\n",
    "    os.environ[\"POLARS_MAX_THREADS\"] = str(threads)\n",
    "    start = time.time()\n",
    "    df_polars.filter(pl.col(\"A\") > 0.5)\n",
    "    print(f\"Polars filtering with {threads} threads: {time.time() - start:.4f} seconds\")\n"
   ]
  },
  {
   "cell_type": "markdown",
   "metadata": {},
   "source": [
    "#### Scalability"
   ]
  },
  {
   "cell_type": "code",
   "execution_count": 10,
   "metadata": {},
   "outputs": [
    {
     "name": "stdout",
     "output_type": "stream",
     "text": [
      "Pandas GroupBy (Size 1000000): 0.2194 seconds\n",
      "Polars GroupBy (Size 1000000): 0.0252 seconds\n",
      "\n",
      "Pandas GroupBy (Size 10000000): 3.4952 seconds\n",
      "Polars GroupBy (Size 10000000): 0.2804 seconds\n",
      "\n",
      "Pandas GroupBy (Size 100000000): 63.6729 seconds\n",
      "Polars GroupBy (Size 100000000): 5.8664 seconds\n",
      "\n"
     ]
    }
   ],
   "source": [
    "sizes = [1000000, 10000000, 100000000]\n",
    "\n",
    "for size in sizes:\n",
    "    df_pandas = pd.DataFrame(np.random.randn(size, 3), columns=[\"A\", \"B\", \"C\"])\n",
    "    df_polars = pl.DataFrame(np.random.randn(size, 3), schema=[\"A\", \"B\", \"C\"])\n",
    "\n",
    "    start = time.time()\n",
    "    df_pandas.groupby(\"A\").agg({\"B\": \"mean\"})\n",
    "    print(f\"Pandas GroupBy (Size {size}): {time.time() - start:.4f} seconds\")\n",
    "\n",
    "    start = time.time()\n",
    "    df_polars.group_by(\"A\").agg(pl.mean(\"B\"))\n",
    "    print(f\"Polars GroupBy (Size {size}): {time.time() - start:.4f} seconds\\n\")\n"
   ]
  }
 ],
 "metadata": {
  "kernelspec": {
   "display_name": "Python 3",
   "language": "python",
   "name": "python3"
  },
  "language_info": {
   "codemirror_mode": {
    "name": "ipython",
    "version": 3
   },
   "file_extension": ".py",
   "mimetype": "text/x-python",
   "name": "python",
   "nbconvert_exporter": "python",
   "pygments_lexer": "ipython3",
   "version": "3.10.2"
  }
 },
 "nbformat": 4,
 "nbformat_minor": 2
}
